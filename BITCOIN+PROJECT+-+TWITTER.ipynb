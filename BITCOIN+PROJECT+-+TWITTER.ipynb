{
 "cells": [
  {
   "cell_type": "code",
   "execution_count": 40,
   "metadata": {
    "collapsed": true
   },
   "outputs": [],
   "source": [
    "import tweepy\n",
    "import json\n",
    "import numpy as np\n",
    "import matplotlib.pyplot as plt\n",
    "from vaderSentiment.vaderSentiment import SentimentIntensityAnalyzer\n",
    "analyzer = SentimentIntensityAnalyzer()"
   ]
  },
  {
   "cell_type": "code",
   "execution_count": 41,
   "metadata": {
    "collapsed": true
   },
   "outputs": [],
   "source": [
    "consumer_key = \"1sm7hTMjPTdXu2mFfeWJsikf0\"\n",
    "consumer_secret = \"aKhmx7c1drEDpYdccAHY7hHAI0noK0smHGvY9DsuYSRx9HbvZI\"\n",
    "access_token = \"87224280-ckwf0MKGRapPC7VeofaAbt8BGVhwAdqXivI9BEDN0\"\n",
    "access_token_secret = \"NbC8SeBhOTvnWRThnbfRtdja05Wqc5rBonyX9LAzxr5Am\"\n"
   ]
  },
  {
   "cell_type": "code",
   "execution_count": 42,
   "metadata": {
    "collapsed": true
   },
   "outputs": [],
   "source": [
    "target_user = \"@BTCTN\""
   ]
  },
  {
   "cell_type": "code",
   "execution_count": 36,
   "metadata": {
    "collapsed": true
   },
   "outputs": [],
   "source": [
    "auth = tweepy.OAuthHandler(consumer_key, consumer_secret)\n",
    "auth.set_access_token(access_token, access_token_secret)\n",
    "api = tweepy.API(auth, parser=tweepy.parsers.JSONParser())"
   ]
  },
  {
   "cell_type": "code",
   "execution_count": 46,
   "metadata": {},
   "outputs": [],
   "source": [
    "bitcn = []\n",
    "for page in range(1,311):\n",
    "    response=api.user_timeline(target_user,page=page)\n",
    "    bitcn.append(response)\n"
   ]
  },
  {
   "cell_type": "code",
   "execution_count": 54,
   "metadata": {},
   "outputs": [
    {
     "data": {
      "text/plain": [
       "310"
      ]
     },
     "execution_count": 54,
     "metadata": {},
     "output_type": "execute_result"
    }
   ],
   "source": [
    "len(bitcn)"
   ]
  },
  {
   "cell_type": "code",
   "execution_count": 50,
   "metadata": {
    "collapsed": true
   },
   "outputs": [],
   "source": [
    "compound_list.append(compound)\n",
    "positive_list.append(pos)\n",
    "negative_list.append(neg)\n",
    "neutral_list.append(neu)"
   ]
  },
  {
   "cell_type": "code",
   "execution_count": 51,
   "metadata": {},
   "outputs": [],
   "source": [
    "compound = analyzer.polarity_scores(target_user)[\"compound\"]\n",
    "pos = analyzer.polarity_scores(target_user)[\"pos\"]\n",
    "neu = analyzer.polarity_scores(target_user)[\"neu\"]\n",
    "neg = analyzer.polarity_scores(target_user)[\"neg\"]"
   ]
  },
  {
   "cell_type": "code",
   "execution_count": 52,
   "metadata": {},
   "outputs": [],
   "source": [
    "sentiment = {\"Compound\": np.mean(compound_list),\n",
    "             \"Positive\": np.mean(positive_list),\n",
    "             \"Neutral\": np.mean(negative_list),\n",
    "             \"Negative\": np.mean(neutral_list)}"
   ]
  },
  {
   "cell_type": "code",
   "execution_count": 53,
   "metadata": {},
   "outputs": [
    {
     "name": "stdout",
     "output_type": "stream",
     "text": [
      "{'Compound': 0.0, 'Positive': 0.0, 'Neutral': 0.0, 'Negative': 1.0}\n",
      "\n"
     ]
    }
   ],
   "source": [
    "print(sentiment)\n",
    "print(\"\")"
   ]
  },
  {
   "cell_type": "code",
   "execution_count": null,
   "metadata": {
    "collapsed": true
   },
   "outputs": [],
   "source": []
  }
 ],
 "metadata": {
  "kernelspec": {
   "display_name": "Python 3",
   "language": "python",
   "name": "python3"
  },
  "language_info": {
   "codemirror_mode": {
    "name": "ipython",
    "version": 3
   },
   "file_extension": ".py",
   "mimetype": "text/x-python",
   "name": "python",
   "nbconvert_exporter": "python",
   "pygments_lexer": "ipython3",
   "version": "3.6.3"
  }
 },
 "nbformat": 4,
 "nbformat_minor": 2
}
